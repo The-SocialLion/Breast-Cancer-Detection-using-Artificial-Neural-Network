{
  "nbformat": 4,
  "nbformat_minor": 0,
  "metadata": {
    "colab": {
      "name": "BCR.ipynb",
      "provenance": []
    },
    "kernelspec": {
      "name": "python3",
      "display_name": "Python 3"
    }
  },
  "cells": [
    {
      "cell_type": "code",
      "metadata": {
        "id": "A7efiEYhS917"
      },
      "source": [
        "import numpy as np\r\n",
        "import pandas as pd\r\n",
        "import matplotlib.pyplot as plt\r\n",
        "import tensorflow as tf"
      ],
      "execution_count": 1,
      "outputs": []
    },
    {
      "cell_type": "code",
      "metadata": {
        "colab": {
          "base_uri": "https://localhost:8080/",
          "height": 419
        },
        "id": "joopJ80PV5hx",
        "outputId": "977c7171-a0e3-436f-c6fb-ce94159336a4"
      },
      "source": [
        "df=pd.read_csv('data.csv')\r\n",
        "df=df.drop(columns=['id','Unnamed: 32'])\r\n",
        "df['average_worst_factors']=round((df['radius_worst']+df['texture_worst']+df['perimeter_worst']+df['area_worst']+df['smoothness_worst']+df['compactness_worst']+df['concavity_worst']+df['concave points_worst']+df['symmetry_worst']+df['fractal_dimension_worst'])/10)\r\n",
        "df['average_se_factors']=round((df['radius_se']+df['texture_se']+df['perimeter_se']+df['area_se']+df['smoothness_se']+df['compactness_se']+df['concavity_se']+df['concave points_se']+df['symmetry_se']+df['fractal_dimension_se'])/10)\r\n",
        "df['average_mean_factors']=round((df['radius_mean']+df['texture_mean']+df['perimeter_mean']+df['area_mean']+df['smoothness_mean']+df['compactness_mean']+df['concavity_mean']+df['concave points_mean']+df['symmetry_mean']+df['fractal_dimension_mean'])/10)\r\n",
        "df['conclusion']=df['diagnosis']\r\n",
        "df=df.drop(columns=['diagnosis','radius_mean','texture_mean','perimeter_mean','area_mean','smoothness_mean','compactness_mean','concavity_mean','concave points_mean','symmetry_mean','fractal_dimension_mean'])\r\n",
        "df=df.drop(columns=['radius_se','texture_se','perimeter_se','area_se','smoothness_se','compactness_se','concavity_se','concave points_se','symmetry_se','fractal_dimension_se'])\r\n",
        "df=df.drop(columns=['radius_worst','texture_worst','perimeter_worst','area_worst','smoothness_worst','compactness_worst','concavity_worst','concave points_worst','symmetry_worst','fractal_dimension_worst'])\r\n",
        "df=df.dropna(how='any')\r\n",
        "df"
      ],
      "execution_count": 67,
      "outputs": [
        {
          "output_type": "execute_result",
          "data": {
            "text/html": [
              "<div>\n",
              "<style scoped>\n",
              "    .dataframe tbody tr th:only-of-type {\n",
              "        vertical-align: middle;\n",
              "    }\n",
              "\n",
              "    .dataframe tbody tr th {\n",
              "        vertical-align: top;\n",
              "    }\n",
              "\n",
              "    .dataframe thead th {\n",
              "        text-align: right;\n",
              "    }\n",
              "</style>\n",
              "<table border=\"1\" class=\"dataframe\">\n",
              "  <thead>\n",
              "    <tr style=\"text-align: right;\">\n",
              "      <th></th>\n",
              "      <th>average_worst_factors</th>\n",
              "      <th>average_se_factors</th>\n",
              "      <th>average_mean_factors</th>\n",
              "      <th>conclusion</th>\n",
              "    </tr>\n",
              "  </thead>\n",
              "  <tbody>\n",
              "    <tr>\n",
              "      <th>0</th>\n",
              "      <td>225.0</td>\n",
              "      <td>16.0</td>\n",
              "      <td>115.0</td>\n",
              "      <td>M</td>\n",
              "    </tr>\n",
              "    <tr>\n",
              "      <th>1</th>\n",
              "      <td>216.0</td>\n",
              "      <td>8.0</td>\n",
              "      <td>150.0</td>\n",
              "      <td>M</td>\n",
              "    </tr>\n",
              "    <tr>\n",
              "      <th>2</th>\n",
              "      <td>191.0</td>\n",
              "      <td>10.0</td>\n",
              "      <td>137.0</td>\n",
              "      <td>M</td>\n",
              "    </tr>\n",
              "    <tr>\n",
              "      <th>3</th>\n",
              "      <td>71.0</td>\n",
              "      <td>3.0</td>\n",
              "      <td>50.0</td>\n",
              "      <td>M</td>\n",
              "    </tr>\n",
              "    <tr>\n",
              "      <th>4</th>\n",
              "      <td>177.0</td>\n",
              "      <td>10.0</td>\n",
              "      <td>147.0</td>\n",
              "      <td>M</td>\n",
              "    </tr>\n",
              "    <tr>\n",
              "      <th>...</th>\n",
              "      <td>...</td>\n",
              "      <td>...</td>\n",
              "      <td>...</td>\n",
              "      <td>...</td>\n",
              "    </tr>\n",
              "    <tr>\n",
              "      <th>564</th>\n",
              "      <td>225.0</td>\n",
              "      <td>17.0</td>\n",
              "      <td>167.0</td>\n",
              "      <td>M</td>\n",
              "    </tr>\n",
              "    <tr>\n",
              "      <th>565</th>\n",
              "      <td>195.0</td>\n",
              "      <td>11.0</td>\n",
              "      <td>144.0</td>\n",
              "      <td>M</td>\n",
              "    </tr>\n",
              "    <tr>\n",
              "      <th>566</th>\n",
              "      <td>131.0</td>\n",
              "      <td>5.0</td>\n",
              "      <td>101.0</td>\n",
              "      <td>M</td>\n",
              "    </tr>\n",
              "    <tr>\n",
              "      <th>567</th>\n",
              "      <td>207.0</td>\n",
              "      <td>9.0</td>\n",
              "      <td>146.0</td>\n",
              "      <td>M</td>\n",
              "    </tr>\n",
              "    <tr>\n",
              "      <th>568</th>\n",
              "      <td>37.0</td>\n",
              "      <td>2.0</td>\n",
              "      <td>26.0</td>\n",
              "      <td>B</td>\n",
              "    </tr>\n",
              "  </tbody>\n",
              "</table>\n",
              "<p>569 rows × 4 columns</p>\n",
              "</div>"
            ],
            "text/plain": [
              "     average_worst_factors  average_se_factors  average_mean_factors conclusion\n",
              "0                    225.0                16.0                 115.0          M\n",
              "1                    216.0                 8.0                 150.0          M\n",
              "2                    191.0                10.0                 137.0          M\n",
              "3                     71.0                 3.0                  50.0          M\n",
              "4                    177.0                10.0                 147.0          M\n",
              "..                     ...                 ...                   ...        ...\n",
              "564                  225.0                17.0                 167.0          M\n",
              "565                  195.0                11.0                 144.0          M\n",
              "566                  131.0                 5.0                 101.0          M\n",
              "567                  207.0                 9.0                 146.0          M\n",
              "568                   37.0                 2.0                  26.0          B\n",
              "\n",
              "[569 rows x 4 columns]"
            ]
          },
          "metadata": {
            "tags": []
          },
          "execution_count": 67
        }
      ]
    },
    {
      "cell_type": "code",
      "metadata": {
        "colab": {
          "base_uri": "https://localhost:8080/"
        },
        "id": "7D0E4Xq8Xm_7",
        "outputId": "7455e149-a9f9-4d95-eaa9-77d22c89bad0"
      },
      "source": [
        "df['conclusion'].unique()"
      ],
      "execution_count": 68,
      "outputs": [
        {
          "output_type": "execute_result",
          "data": {
            "text/plain": [
              "array(['M', 'B'], dtype=object)"
            ]
          },
          "metadata": {
            "tags": []
          },
          "execution_count": 68
        }
      ]
    },
    {
      "cell_type": "code",
      "metadata": {
        "colab": {
          "base_uri": "https://localhost:8080/",
          "height": 419
        },
        "id": "g9lRlYq-XIEm",
        "outputId": "cc0f4282-7d8a-40f1-8f7a-55633804c741"
      },
      "source": [
        "from sklearn.preprocessing import LabelEncoder\r\n",
        "le=LabelEncoder()\r\n",
        "df['conclusion']=le.fit_transform(df['conclusion'])\r\n",
        "df"
      ],
      "execution_count": 70,
      "outputs": [
        {
          "output_type": "execute_result",
          "data": {
            "text/html": [
              "<div>\n",
              "<style scoped>\n",
              "    .dataframe tbody tr th:only-of-type {\n",
              "        vertical-align: middle;\n",
              "    }\n",
              "\n",
              "    .dataframe tbody tr th {\n",
              "        vertical-align: top;\n",
              "    }\n",
              "\n",
              "    .dataframe thead th {\n",
              "        text-align: right;\n",
              "    }\n",
              "</style>\n",
              "<table border=\"1\" class=\"dataframe\">\n",
              "  <thead>\n",
              "    <tr style=\"text-align: right;\">\n",
              "      <th></th>\n",
              "      <th>average_worst_factors</th>\n",
              "      <th>average_se_factors</th>\n",
              "      <th>average_mean_factors</th>\n",
              "      <th>conclusion</th>\n",
              "    </tr>\n",
              "  </thead>\n",
              "  <tbody>\n",
              "    <tr>\n",
              "      <th>0</th>\n",
              "      <td>225.0</td>\n",
              "      <td>16.0</td>\n",
              "      <td>115.0</td>\n",
              "      <td>1</td>\n",
              "    </tr>\n",
              "    <tr>\n",
              "      <th>1</th>\n",
              "      <td>216.0</td>\n",
              "      <td>8.0</td>\n",
              "      <td>150.0</td>\n",
              "      <td>1</td>\n",
              "    </tr>\n",
              "    <tr>\n",
              "      <th>2</th>\n",
              "      <td>191.0</td>\n",
              "      <td>10.0</td>\n",
              "      <td>137.0</td>\n",
              "      <td>1</td>\n",
              "    </tr>\n",
              "    <tr>\n",
              "      <th>3</th>\n",
              "      <td>71.0</td>\n",
              "      <td>3.0</td>\n",
              "      <td>50.0</td>\n",
              "      <td>1</td>\n",
              "    </tr>\n",
              "    <tr>\n",
              "      <th>4</th>\n",
              "      <td>177.0</td>\n",
              "      <td>10.0</td>\n",
              "      <td>147.0</td>\n",
              "      <td>1</td>\n",
              "    </tr>\n",
              "    <tr>\n",
              "      <th>...</th>\n",
              "      <td>...</td>\n",
              "      <td>...</td>\n",
              "      <td>...</td>\n",
              "      <td>...</td>\n",
              "    </tr>\n",
              "    <tr>\n",
              "      <th>564</th>\n",
              "      <td>225.0</td>\n",
              "      <td>17.0</td>\n",
              "      <td>167.0</td>\n",
              "      <td>1</td>\n",
              "    </tr>\n",
              "    <tr>\n",
              "      <th>565</th>\n",
              "      <td>195.0</td>\n",
              "      <td>11.0</td>\n",
              "      <td>144.0</td>\n",
              "      <td>1</td>\n",
              "    </tr>\n",
              "    <tr>\n",
              "      <th>566</th>\n",
              "      <td>131.0</td>\n",
              "      <td>5.0</td>\n",
              "      <td>101.0</td>\n",
              "      <td>1</td>\n",
              "    </tr>\n",
              "    <tr>\n",
              "      <th>567</th>\n",
              "      <td>207.0</td>\n",
              "      <td>9.0</td>\n",
              "      <td>146.0</td>\n",
              "      <td>1</td>\n",
              "    </tr>\n",
              "    <tr>\n",
              "      <th>568</th>\n",
              "      <td>37.0</td>\n",
              "      <td>2.0</td>\n",
              "      <td>26.0</td>\n",
              "      <td>0</td>\n",
              "    </tr>\n",
              "  </tbody>\n",
              "</table>\n",
              "<p>569 rows × 4 columns</p>\n",
              "</div>"
            ],
            "text/plain": [
              "     average_worst_factors  ...  conclusion\n",
              "0                    225.0  ...           1\n",
              "1                    216.0  ...           1\n",
              "2                    191.0  ...           1\n",
              "3                     71.0  ...           1\n",
              "4                    177.0  ...           1\n",
              "..                     ...  ...         ...\n",
              "564                  225.0  ...           1\n",
              "565                  195.0  ...           1\n",
              "566                  131.0  ...           1\n",
              "567                  207.0  ...           1\n",
              "568                   37.0  ...           0\n",
              "\n",
              "[569 rows x 4 columns]"
            ]
          },
          "metadata": {
            "tags": []
          },
          "execution_count": 70
        }
      ]
    },
    {
      "cell_type": "code",
      "metadata": {
        "colab": {
          "base_uri": "https://localhost:8080/"
        },
        "id": "tv9ynjaXXauh",
        "outputId": "8ba0c9b6-6ee3-408f-862a-5a71aed06c01"
      },
      "source": [
        "df['conclusion'].unique()"
      ],
      "execution_count": 71,
      "outputs": [
        {
          "output_type": "execute_result",
          "data": {
            "text/plain": [
              "array([1, 0])"
            ]
          },
          "metadata": {
            "tags": []
          },
          "execution_count": 71
        }
      ]
    },
    {
      "cell_type": "code",
      "metadata": {
        "id": "Wd80ajsVX0tz"
      },
      "source": [
        "X=df.iloc[:,:-1].values\r\n",
        "Y=df.iloc[:,-1].values"
      ],
      "execution_count": 72,
      "outputs": []
    },
    {
      "cell_type": "code",
      "metadata": {
        "id": "kf6IJWDwXuuZ"
      },
      "source": [
        "from sklearn.model_selection import train_test_split\r\n",
        "X_train, X_test, y_train, y_test = train_test_split(X, Y, test_size = 0.2, random_state = 0)"
      ],
      "execution_count": 73,
      "outputs": []
    },
    {
      "cell_type": "code",
      "metadata": {
        "id": "krqKSnRHX9sx"
      },
      "source": [
        "ann = tf.keras.models.Sequential()\r\n",
        "ann.add(tf.keras.layers.Dense(units=15, activation='relu'))\r\n",
        "ann.add(tf.keras.layers.Dense(units=15, activation='relu'))\r\n",
        "ann.add(tf.keras.layers.Dense(units=1, activation='sigmoid'))"
      ],
      "execution_count": 74,
      "outputs": []
    },
    {
      "cell_type": "code",
      "metadata": {
        "colab": {
          "base_uri": "https://localhost:8080/"
        },
        "id": "HIwVQ8BvYPIN",
        "outputId": "908088af-a90f-4200-b598-70f3bb15807e"
      },
      "source": [
        "ann.compile(optimizer = 'adam', loss = 'binary_crossentropy', metrics = ['accuracy'])\r\n",
        "history = ann.fit(X_train, y_train, batch_size=15, epochs=150)\r\n",
        "ann.save(\"BCR.h5\")"
      ],
      "execution_count": 75,
      "outputs": [
        {
          "output_type": "stream",
          "text": [
            "Epoch 1/150\n",
            "31/31 [==============================] - 0s 1ms/step - loss: 12.4502 - accuracy: 0.3544\n",
            "Epoch 2/150\n",
            "31/31 [==============================] - 0s 1ms/step - loss: 1.5687 - accuracy: 0.4829\n",
            "Epoch 3/150\n",
            "31/31 [==============================] - 0s 1ms/step - loss: 0.4876 - accuracy: 0.7886\n",
            "Epoch 4/150\n",
            "31/31 [==============================] - 0s 1ms/step - loss: 0.4910 - accuracy: 0.8536\n",
            "Epoch 5/150\n",
            "31/31 [==============================] - 0s 1ms/step - loss: 0.4671 - accuracy: 0.8676\n",
            "Epoch 6/150\n",
            "31/31 [==============================] - 0s 1ms/step - loss: 0.4471 - accuracy: 0.8931\n",
            "Epoch 7/150\n",
            "31/31 [==============================] - 0s 1ms/step - loss: 0.4152 - accuracy: 0.8708\n",
            "Epoch 8/150\n",
            "31/31 [==============================] - 0s 1ms/step - loss: 0.4381 - accuracy: 0.8928\n",
            "Epoch 9/150\n",
            "31/31 [==============================] - 0s 1ms/step - loss: 0.4033 - accuracy: 0.8986\n",
            "Epoch 10/150\n",
            "31/31 [==============================] - 0s 1ms/step - loss: 0.4548 - accuracy: 0.8877\n",
            "Epoch 11/150\n",
            "31/31 [==============================] - 0s 1ms/step - loss: 0.4033 - accuracy: 0.8658\n",
            "Epoch 12/150\n",
            "31/31 [==============================] - 0s 1ms/step - loss: 0.3418 - accuracy: 0.9210\n",
            "Epoch 13/150\n",
            "31/31 [==============================] - 0s 1ms/step - loss: 0.3786 - accuracy: 0.9064\n",
            "Epoch 14/150\n",
            "31/31 [==============================] - 0s 1ms/step - loss: 0.3392 - accuracy: 0.9213\n",
            "Epoch 15/150\n",
            "31/31 [==============================] - 0s 1ms/step - loss: 0.3453 - accuracy: 0.9021\n",
            "Epoch 16/150\n",
            "31/31 [==============================] - 0s 1ms/step - loss: 0.3235 - accuracy: 0.9237\n",
            "Epoch 17/150\n",
            "31/31 [==============================] - 0s 1ms/step - loss: 0.3473 - accuracy: 0.9012\n",
            "Epoch 18/150\n",
            "31/31 [==============================] - 0s 1ms/step - loss: 0.3431 - accuracy: 0.8933\n",
            "Epoch 19/150\n",
            "31/31 [==============================] - 0s 1ms/step - loss: 0.3482 - accuracy: 0.8974\n",
            "Epoch 20/150\n",
            "31/31 [==============================] - 0s 1ms/step - loss: 0.3113 - accuracy: 0.9246\n",
            "Epoch 21/150\n",
            "31/31 [==============================] - 0s 1ms/step - loss: 0.3741 - accuracy: 0.8879\n",
            "Epoch 22/150\n",
            "31/31 [==============================] - 0s 1ms/step - loss: 0.3386 - accuracy: 0.8835\n",
            "Epoch 23/150\n",
            "31/31 [==============================] - 0s 1ms/step - loss: 0.3122 - accuracy: 0.9182\n",
            "Epoch 24/150\n",
            "31/31 [==============================] - 0s 1ms/step - loss: 0.3415 - accuracy: 0.9050\n",
            "Epoch 25/150\n",
            "31/31 [==============================] - 0s 1ms/step - loss: 0.3278 - accuracy: 0.8922\n",
            "Epoch 26/150\n",
            "31/31 [==============================] - 0s 1ms/step - loss: 0.3183 - accuracy: 0.9052\n",
            "Epoch 27/150\n",
            "31/31 [==============================] - 0s 1ms/step - loss: 0.2944 - accuracy: 0.9043\n",
            "Epoch 28/150\n",
            "31/31 [==============================] - 0s 1ms/step - loss: 0.3096 - accuracy: 0.9003\n",
            "Epoch 29/150\n",
            "31/31 [==============================] - 0s 1ms/step - loss: 0.3026 - accuracy: 0.9184\n",
            "Epoch 30/150\n",
            "31/31 [==============================] - 0s 1ms/step - loss: 0.2738 - accuracy: 0.9176\n",
            "Epoch 31/150\n",
            "31/31 [==============================] - 0s 1ms/step - loss: 0.2706 - accuracy: 0.9152\n",
            "Epoch 32/150\n",
            "31/31 [==============================] - 0s 1ms/step - loss: 0.2709 - accuracy: 0.9132\n",
            "Epoch 33/150\n",
            "31/31 [==============================] - 0s 1ms/step - loss: 0.2958 - accuracy: 0.8943\n",
            "Epoch 34/150\n",
            "31/31 [==============================] - 0s 1ms/step - loss: 0.2893 - accuracy: 0.8987\n",
            "Epoch 35/150\n",
            "31/31 [==============================] - 0s 1ms/step - loss: 0.2814 - accuracy: 0.9082\n",
            "Epoch 36/150\n",
            "31/31 [==============================] - 0s 1ms/step - loss: 0.2707 - accuracy: 0.9102\n",
            "Epoch 37/150\n",
            "31/31 [==============================] - 0s 1ms/step - loss: 0.2982 - accuracy: 0.8855\n",
            "Epoch 38/150\n",
            "31/31 [==============================] - 0s 1ms/step - loss: 0.2528 - accuracy: 0.9225\n",
            "Epoch 39/150\n",
            "31/31 [==============================] - 0s 1ms/step - loss: 0.2520 - accuracy: 0.9219\n",
            "Epoch 40/150\n",
            "31/31 [==============================] - 0s 1ms/step - loss: 0.2653 - accuracy: 0.9011\n",
            "Epoch 41/150\n",
            "31/31 [==============================] - 0s 1ms/step - loss: 0.2658 - accuracy: 0.9109\n",
            "Epoch 42/150\n",
            "31/31 [==============================] - 0s 1ms/step - loss: 0.2282 - accuracy: 0.9345\n",
            "Epoch 43/150\n",
            "31/31 [==============================] - 0s 1ms/step - loss: 0.2530 - accuracy: 0.9177\n",
            "Epoch 44/150\n",
            "31/31 [==============================] - 0s 1ms/step - loss: 0.2678 - accuracy: 0.9077\n",
            "Epoch 45/150\n",
            "31/31 [==============================] - 0s 1ms/step - loss: 0.2435 - accuracy: 0.9248\n",
            "Epoch 46/150\n",
            "31/31 [==============================] - 0s 1ms/step - loss: 0.2316 - accuracy: 0.9147\n",
            "Epoch 47/150\n",
            "31/31 [==============================] - 0s 1ms/step - loss: 0.2282 - accuracy: 0.9198\n",
            "Epoch 48/150\n",
            "31/31 [==============================] - 0s 1ms/step - loss: 0.2246 - accuracy: 0.9362\n",
            "Epoch 49/150\n",
            "31/31 [==============================] - 0s 1ms/step - loss: 0.2480 - accuracy: 0.9304\n",
            "Epoch 50/150\n",
            "31/31 [==============================] - 0s 1ms/step - loss: 0.2124 - accuracy: 0.9430\n",
            "Epoch 51/150\n",
            "31/31 [==============================] - 0s 1ms/step - loss: 0.2082 - accuracy: 0.9440\n",
            "Epoch 52/150\n",
            "31/31 [==============================] - 0s 1ms/step - loss: 0.2428 - accuracy: 0.9064\n",
            "Epoch 53/150\n",
            "31/31 [==============================] - 0s 1ms/step - loss: 0.2131 - accuracy: 0.9315\n",
            "Epoch 54/150\n",
            "31/31 [==============================] - 0s 1ms/step - loss: 0.2216 - accuracy: 0.9195\n",
            "Epoch 55/150\n",
            "31/31 [==============================] - 0s 2ms/step - loss: 0.2835 - accuracy: 0.8942\n",
            "Epoch 56/150\n",
            "31/31 [==============================] - 0s 1ms/step - loss: 0.2141 - accuracy: 0.9362\n",
            "Epoch 57/150\n",
            "31/31 [==============================] - 0s 1ms/step - loss: 0.2076 - accuracy: 0.9164\n",
            "Epoch 58/150\n",
            "31/31 [==============================] - 0s 1ms/step - loss: 0.2149 - accuracy: 0.9126\n",
            "Epoch 59/150\n",
            "31/31 [==============================] - 0s 1ms/step - loss: 0.2207 - accuracy: 0.9294\n",
            "Epoch 60/150\n",
            "31/31 [==============================] - 0s 1ms/step - loss: 0.2063 - accuracy: 0.9226\n",
            "Epoch 61/150\n",
            "31/31 [==============================] - 0s 1ms/step - loss: 0.2322 - accuracy: 0.9163\n",
            "Epoch 62/150\n",
            "31/31 [==============================] - 0s 1ms/step - loss: 0.2040 - accuracy: 0.9353\n",
            "Epoch 63/150\n",
            "31/31 [==============================] - 0s 1ms/step - loss: 0.2019 - accuracy: 0.9356\n",
            "Epoch 64/150\n",
            "31/31 [==============================] - 0s 1ms/step - loss: 0.2074 - accuracy: 0.9209\n",
            "Epoch 65/150\n",
            "31/31 [==============================] - 0s 1ms/step - loss: 0.2031 - accuracy: 0.9353\n",
            "Epoch 66/150\n",
            "31/31 [==============================] - 0s 1ms/step - loss: 0.2381 - accuracy: 0.9095\n",
            "Epoch 67/150\n",
            "31/31 [==============================] - 0s 1ms/step - loss: 0.2208 - accuracy: 0.9240\n",
            "Epoch 68/150\n",
            "31/31 [==============================] - 0s 1ms/step - loss: 0.2142 - accuracy: 0.9139\n",
            "Epoch 69/150\n",
            "31/31 [==============================] - 0s 1ms/step - loss: 0.2120 - accuracy: 0.9202\n",
            "Epoch 70/150\n",
            "31/31 [==============================] - 0s 1ms/step - loss: 0.1970 - accuracy: 0.9292\n",
            "Epoch 71/150\n",
            "31/31 [==============================] - 0s 1ms/step - loss: 0.2233 - accuracy: 0.9228\n",
            "Epoch 72/150\n",
            "31/31 [==============================] - 0s 1ms/step - loss: 0.1882 - accuracy: 0.9319\n",
            "Epoch 73/150\n",
            "31/31 [==============================] - 0s 1ms/step - loss: 0.1875 - accuracy: 0.9338\n",
            "Epoch 74/150\n",
            "31/31 [==============================] - 0s 1ms/step - loss: 0.2183 - accuracy: 0.9055\n",
            "Epoch 75/150\n",
            "31/31 [==============================] - 0s 1ms/step - loss: 0.2050 - accuracy: 0.9311\n",
            "Epoch 76/150\n",
            "31/31 [==============================] - 0s 2ms/step - loss: 0.1815 - accuracy: 0.9300\n",
            "Epoch 77/150\n",
            "31/31 [==============================] - 0s 1ms/step - loss: 0.1582 - accuracy: 0.9444\n",
            "Epoch 78/150\n",
            "31/31 [==============================] - 0s 1ms/step - loss: 0.1545 - accuracy: 0.9498\n",
            "Epoch 79/150\n",
            "31/31 [==============================] - 0s 1ms/step - loss: 0.1868 - accuracy: 0.9117\n",
            "Epoch 80/150\n",
            "31/31 [==============================] - 0s 1ms/step - loss: 0.1856 - accuracy: 0.9264\n",
            "Epoch 81/150\n",
            "31/31 [==============================] - 0s 1ms/step - loss: 0.2287 - accuracy: 0.9192\n",
            "Epoch 82/150\n",
            "31/31 [==============================] - 0s 1ms/step - loss: 0.2003 - accuracy: 0.9257\n",
            "Epoch 83/150\n",
            "31/31 [==============================] - 0s 1ms/step - loss: 0.1878 - accuracy: 0.9382\n",
            "Epoch 84/150\n",
            "31/31 [==============================] - 0s 1ms/step - loss: 0.1702 - accuracy: 0.9287\n",
            "Epoch 85/150\n",
            "31/31 [==============================] - 0s 1ms/step - loss: 0.2097 - accuracy: 0.9168\n",
            "Epoch 86/150\n",
            "31/31 [==============================] - 0s 1ms/step - loss: 0.1826 - accuracy: 0.9276\n",
            "Epoch 87/150\n",
            "31/31 [==============================] - 0s 1ms/step - loss: 0.1969 - accuracy: 0.9205\n",
            "Epoch 88/150\n",
            "31/31 [==============================] - 0s 1ms/step - loss: 0.2148 - accuracy: 0.9037\n",
            "Epoch 89/150\n",
            "31/31 [==============================] - 0s 2ms/step - loss: 0.1791 - accuracy: 0.9391\n",
            "Epoch 90/150\n",
            "31/31 [==============================] - 0s 1ms/step - loss: 0.1715 - accuracy: 0.9263\n",
            "Epoch 91/150\n",
            "31/31 [==============================] - 0s 1ms/step - loss: 0.1809 - accuracy: 0.9387\n",
            "Epoch 92/150\n",
            "31/31 [==============================] - 0s 1ms/step - loss: 0.1830 - accuracy: 0.9303\n",
            "Epoch 93/150\n",
            "31/31 [==============================] - 0s 1ms/step - loss: 0.1755 - accuracy: 0.9315\n",
            "Epoch 94/150\n",
            "31/31 [==============================] - 0s 1ms/step - loss: 0.2018 - accuracy: 0.9213\n",
            "Epoch 95/150\n",
            "31/31 [==============================] - 0s 1ms/step - loss: 0.1779 - accuracy: 0.9298\n",
            "Epoch 96/150\n",
            "31/31 [==============================] - 0s 1ms/step - loss: 0.1653 - accuracy: 0.9377\n",
            "Epoch 97/150\n",
            "31/31 [==============================] - 0s 1ms/step - loss: 0.1675 - accuracy: 0.9378\n",
            "Epoch 98/150\n",
            "31/31 [==============================] - 0s 1ms/step - loss: 0.1698 - accuracy: 0.9339\n",
            "Epoch 99/150\n",
            "31/31 [==============================] - 0s 1ms/step - loss: 0.1824 - accuracy: 0.9242\n",
            "Epoch 100/150\n",
            "31/31 [==============================] - 0s 1ms/step - loss: 0.2072 - accuracy: 0.9011\n",
            "Epoch 101/150\n",
            "31/31 [==============================] - 0s 1ms/step - loss: 0.1765 - accuracy: 0.9200\n",
            "Epoch 102/150\n",
            "31/31 [==============================] - 0s 2ms/step - loss: 0.1715 - accuracy: 0.9292\n",
            "Epoch 103/150\n",
            "31/31 [==============================] - 0s 1ms/step - loss: 0.1686 - accuracy: 0.9361\n",
            "Epoch 104/150\n",
            "31/31 [==============================] - 0s 1ms/step - loss: 0.1860 - accuracy: 0.9272\n",
            "Epoch 105/150\n",
            "31/31 [==============================] - 0s 1ms/step - loss: 0.1819 - accuracy: 0.9266\n",
            "Epoch 106/150\n",
            "31/31 [==============================] - 0s 1ms/step - loss: 0.1699 - accuracy: 0.9389\n",
            "Epoch 107/150\n",
            "31/31 [==============================] - 0s 1ms/step - loss: 0.1784 - accuracy: 0.9368\n",
            "Epoch 108/150\n",
            "31/31 [==============================] - 0s 1ms/step - loss: 0.1537 - accuracy: 0.9281\n",
            "Epoch 109/150\n",
            "31/31 [==============================] - 0s 1ms/step - loss: 0.1764 - accuracy: 0.9234\n",
            "Epoch 110/150\n",
            "31/31 [==============================] - 0s 1ms/step - loss: 0.1716 - accuracy: 0.9312\n",
            "Epoch 111/150\n",
            "31/31 [==============================] - 0s 1ms/step - loss: 0.1857 - accuracy: 0.9347\n",
            "Epoch 112/150\n",
            "31/31 [==============================] - 0s 1ms/step - loss: 0.1610 - accuracy: 0.9379\n",
            "Epoch 113/150\n",
            "31/31 [==============================] - 0s 2ms/step - loss: 0.1806 - accuracy: 0.9245\n",
            "Epoch 114/150\n",
            "31/31 [==============================] - 0s 1ms/step - loss: 0.2147 - accuracy: 0.9280\n",
            "Epoch 115/150\n",
            "31/31 [==============================] - 0s 1ms/step - loss: 0.1693 - accuracy: 0.9376\n",
            "Epoch 116/150\n",
            "31/31 [==============================] - 0s 1ms/step - loss: 0.1674 - accuracy: 0.9508\n",
            "Epoch 117/150\n",
            "31/31 [==============================] - 0s 1ms/step - loss: 0.1531 - accuracy: 0.9315\n",
            "Epoch 118/150\n",
            "31/31 [==============================] - 0s 1ms/step - loss: 0.1662 - accuracy: 0.9277\n",
            "Epoch 119/150\n",
            "31/31 [==============================] - 0s 1ms/step - loss: 0.1489 - accuracy: 0.9295\n",
            "Epoch 120/150\n",
            "31/31 [==============================] - 0s 1ms/step - loss: 0.1731 - accuracy: 0.9237\n",
            "Epoch 121/150\n",
            "31/31 [==============================] - 0s 1ms/step - loss: 0.1732 - accuracy: 0.9249\n",
            "Epoch 122/150\n",
            "31/31 [==============================] - 0s 1ms/step - loss: 0.1641 - accuracy: 0.9361\n",
            "Epoch 123/150\n",
            "31/31 [==============================] - 0s 1ms/step - loss: 0.1714 - accuracy: 0.9356\n",
            "Epoch 124/150\n",
            "31/31 [==============================] - 0s 1ms/step - loss: 0.1435 - accuracy: 0.9407\n",
            "Epoch 125/150\n",
            "31/31 [==============================] - 0s 1ms/step - loss: 0.1773 - accuracy: 0.9296\n",
            "Epoch 126/150\n",
            "31/31 [==============================] - 0s 1ms/step - loss: 0.1463 - accuracy: 0.9399\n",
            "Epoch 127/150\n",
            "31/31 [==============================] - 0s 1ms/step - loss: 0.1633 - accuracy: 0.9345\n",
            "Epoch 128/150\n",
            "31/31 [==============================] - 0s 1ms/step - loss: 0.1804 - accuracy: 0.9336\n",
            "Epoch 129/150\n",
            "31/31 [==============================] - 0s 1ms/step - loss: 0.1679 - accuracy: 0.9300\n",
            "Epoch 130/150\n",
            "31/31 [==============================] - 0s 1ms/step - loss: 0.1474 - accuracy: 0.9497\n",
            "Epoch 131/150\n",
            "31/31 [==============================] - 0s 1ms/step - loss: 0.1737 - accuracy: 0.9294\n",
            "Epoch 132/150\n",
            "31/31 [==============================] - 0s 1ms/step - loss: 0.1806 - accuracy: 0.9260\n",
            "Epoch 133/150\n",
            "31/31 [==============================] - 0s 1ms/step - loss: 0.2340 - accuracy: 0.9202\n",
            "Epoch 134/150\n",
            "31/31 [==============================] - 0s 1ms/step - loss: 0.1530 - accuracy: 0.9398\n",
            "Epoch 135/150\n",
            "31/31 [==============================] - 0s 1ms/step - loss: 0.1682 - accuracy: 0.9424\n",
            "Epoch 136/150\n",
            "31/31 [==============================] - 0s 1ms/step - loss: 0.1588 - accuracy: 0.9368\n",
            "Epoch 137/150\n",
            "31/31 [==============================] - 0s 1ms/step - loss: 0.1403 - accuracy: 0.9411\n",
            "Epoch 138/150\n",
            "31/31 [==============================] - 0s 1ms/step - loss: 0.1421 - accuracy: 0.9291\n",
            "Epoch 139/150\n",
            "31/31 [==============================] - 0s 1ms/step - loss: 0.1517 - accuracy: 0.9359\n",
            "Epoch 140/150\n",
            "31/31 [==============================] - 0s 1ms/step - loss: 0.1971 - accuracy: 0.9178\n",
            "Epoch 141/150\n",
            "31/31 [==============================] - 0s 1ms/step - loss: 0.1439 - accuracy: 0.9414\n",
            "Epoch 142/150\n",
            "31/31 [==============================] - 0s 1ms/step - loss: 0.1959 - accuracy: 0.9159\n",
            "Epoch 143/150\n",
            "31/31 [==============================] - 0s 1ms/step - loss: 0.1371 - accuracy: 0.9436\n",
            "Epoch 144/150\n",
            "31/31 [==============================] - 0s 1ms/step - loss: 0.1544 - accuracy: 0.9403\n",
            "Epoch 145/150\n",
            "31/31 [==============================] - 0s 1ms/step - loss: 0.1605 - accuracy: 0.9407\n",
            "Epoch 146/150\n",
            "31/31 [==============================] - 0s 1ms/step - loss: 0.1591 - accuracy: 0.9294\n",
            "Epoch 147/150\n",
            "31/31 [==============================] - 0s 1ms/step - loss: 0.1718 - accuracy: 0.9369\n",
            "Epoch 148/150\n",
            "31/31 [==============================] - 0s 1ms/step - loss: 0.1741 - accuracy: 0.9153\n",
            "Epoch 149/150\n",
            "31/31 [==============================] - 0s 1ms/step - loss: 0.1654 - accuracy: 0.9420\n",
            "Epoch 150/150\n",
            "31/31 [==============================] - 0s 1ms/step - loss: 0.1555 - accuracy: 0.9475\n"
          ],
          "name": "stdout"
        }
      ]
    },
    {
      "cell_type": "code",
      "metadata": {
        "colab": {
          "base_uri": "https://localhost:8080/",
          "height": 591
        },
        "id": "r6QStQiDcES1",
        "outputId": "0e9a2b7a-a113-43aa-8734-1500d533d161"
      },
      "source": [
        "plt.figure(0)\r\n",
        "plt.plot(history.history['accuracy'], label='training accuracy')\r\n",
        "plt.title('Accuracy')\r\n",
        "plt.xlabel('epochs')\r\n",
        "plt.ylabel('accuracy')\r\n",
        "plt.legend()\r\n",
        "plt.savefig('Accuracy.png')\r\n",
        "plt.figure(1)\r\n",
        "plt.plot(history.history['loss'], label='training loss')\r\n",
        "plt.title('Loss')\r\n",
        "plt.xlabel('epochs')\r\n",
        "plt.ylabel('loss')\r\n",
        "plt.legend()\r\n",
        "plt.savefig('Loss.png')\r\n",
        "print(\"Saved Model & Graph to disk\")"
      ],
      "execution_count": 76,
      "outputs": [
        {
          "output_type": "stream",
          "text": [
            "Saved Model & Graph to disk\n"
          ],
          "name": "stdout"
        },
        {
          "output_type": "display_data",
          "data": {
            "image/png": "[encoded data removed]",
            "text/plain": [
              "<Figure size 432x288 with 1 Axes>"
            ]
          },
          "metadata": {
            "tags": [],
            "needs_background": "light"
          }
        },
        {
          "output_type": "display_data",
          "data": {
            "image/png": "[encoded data removed]",
            "text/plain": [
              "<Figure size 432x288 with 1 Axes>"
            ]
          },
          "metadata": {
            "tags": [],
            "needs_background": "light"
          }
        }
      ]
    },
    {
      "cell_type": "code",
      "metadata": {
        "colab": {
          "base_uri": "https://localhost:8080/"
        },
        "id": "JHet2DajciuD",
        "outputId": "b2e560c3-2c78-497a-8ec0-ad7cdd675814"
      },
      "source": [
        "model = tf.keras.models.load_model('BCR.h5')\r\n",
        "print(\"Loaded model from disk\")\r\n",
        "test=[[100,150,200]]\r\n",
        "print(ann.predict(test))"
      ],
      "execution_count": 77,
      "outputs": [
        {
          "output_type": "stream",
          "text": [
            "Loaded model from disk\n",
            "[[1.]]\n"
          ],
          "name": "stdout"
        }
      ]
    },
    {
      "cell_type": "code",
      "metadata": {
        "colab": {
          "base_uri": "https://localhost:8080/"
        },
        "id": "af3Yao33f7d4",
        "outputId": "fa4cdbb9-15e7-49ca-d7ec-1e90c94184d7"
      },
      "source": [
        "print(ann.predict([[37,2,26]]))"
      ],
      "execution_count": 84,
      "outputs": [
        {
          "output_type": "stream",
          "text": [
            "[[0.03712079]]\n"
          ],
          "name": "stdout"
        }
      ]
    },
    {
      "cell_type": "code",
      "metadata": {
        "colab": {
          "base_uri": "https://localhost:8080/"
        },
        "id": "0u3dUrW7fkoA",
        "outputId": "39194a42-f471-4ae4-e441-c11468b6c40c"
      },
      "source": [
        "print(ann.predict([[10,25,26]]))"
      ],
      "execution_count": 86,
      "outputs": [
        {
          "output_type": "stream",
          "text": [
            "[[0.9533137]]\n"
          ],
          "name": "stdout"
        }
      ]
    },
    {
      "cell_type": "code",
      "metadata": {
        "colab": {
          "base_uri": "https://localhost:8080/"
        },
        "id": "Qk3tIg8Ed4VK",
        "outputId": "08209b94-5a51-4353-d170-2424b8e3abd4"
      },
      "source": [
        "y_pred = ann.predict(X_test)\r\n",
        "y_pred = (y_pred > 0.5)\r\n",
        "print(np.concatenate((y_pred.reshape(len(y_pred),1), y_test.reshape(len(y_test),1)),1))"
      ],
      "execution_count": 87,
      "outputs": [
        {
          "output_type": "stream",
          "text": [
            "[[1 1]\n",
            " [0 0]\n",
            " [0 0]\n",
            " [0 0]\n",
            " [0 0]\n",
            " [0 0]\n",
            " [0 0]\n",
            " [0 0]\n",
            " [0 0]\n",
            " [0 0]\n",
            " [0 0]\n",
            " [0 0]\n",
            " [0 0]\n",
            " [0 0]\n",
            " [0 0]\n",
            " [1 1]\n",
            " [0 0]\n",
            " [1 1]\n",
            " [1 1]\n",
            " [1 1]\n",
            " [1 1]\n",
            " [0 1]\n",
            " [0 0]\n",
            " [0 0]\n",
            " [1 1]\n",
            " [0 0]\n",
            " [0 0]\n",
            " [0 1]\n",
            " [0 0]\n",
            " [1 1]\n",
            " [0 0]\n",
            " [1 1]\n",
            " [0 0]\n",
            " [1 1]\n",
            " [0 0]\n",
            " [1 1]\n",
            " [0 0]\n",
            " [1 1]\n",
            " [0 0]\n",
            " [1 1]\n",
            " [1 1]\n",
            " [0 0]\n",
            " [1 1]\n",
            " [0 0]\n",
            " [1 0]\n",
            " [1 1]\n",
            " [0 0]\n",
            " [0 0]\n",
            " [0 0]\n",
            " [1 1]\n",
            " [1 1]\n",
            " [0 1]\n",
            " [1 1]\n",
            " [0 0]\n",
            " [0 0]\n",
            " [0 0]\n",
            " [0 0]\n",
            " [0 0]\n",
            " [0 0]\n",
            " [1 1]\n",
            " [1 1]\n",
            " [1 1]\n",
            " [0 0]\n",
            " [0 0]\n",
            " [1 1]\n",
            " [0 0]\n",
            " [1 1]\n",
            " [1 1]\n",
            " [1 1]\n",
            " [0 0]\n",
            " [1 0]\n",
            " [1 1]\n",
            " [0 0]\n",
            " [0 1]\n",
            " [1 1]\n",
            " [0 0]\n",
            " [0 0]\n",
            " [0 0]\n",
            " [0 0]\n",
            " [0 0]\n",
            " [1 1]\n",
            " [1 1]\n",
            " [1 1]\n",
            " [0 0]\n",
            " [1 1]\n",
            " [0 0]\n",
            " [0 0]\n",
            " [0 0]\n",
            " [1 1]\n",
            " [1 1]\n",
            " [0 0]\n",
            " [1 1]\n",
            " [0 0]\n",
            " [0 1]\n",
            " [0 0]\n",
            " [0 0]\n",
            " [1 1]\n",
            " [0 0]\n",
            " [0 0]\n",
            " [0 0]\n",
            " [0 0]\n",
            " [0 0]\n",
            " [0 0]\n",
            " [0 0]\n",
            " [1 1]\n",
            " [0 0]\n",
            " [1 1]\n",
            " [0 0]\n",
            " [1 1]\n",
            " [0 1]\n",
            " [0 0]\n",
            " [1 1]\n",
            " [1 1]\n",
            " [0 0]]\n"
          ],
          "name": "stdout"
        }
      ]
    },
    {
      "cell_type": "code",
      "metadata": {
        "colab": {
          "base_uri": "https://localhost:8080/"
        },
        "id": "qNrHa2N5d9Fv",
        "outputId": "fe5dba86-786c-41c2-c74f-084b28659b7a"
      },
      "source": [
        "from sklearn.metrics import confusion_matrix, accuracy_score\r\n",
        "cm = confusion_matrix(y_test, y_pred)\r\n",
        "print(cm)\r\n",
        "print(accuracy_score(y_test, y_pred)*100,\"%\")"
      ],
      "execution_count": 88,
      "outputs": [
        {
          "output_type": "stream",
          "text": [
            "[[65  2]\n",
            " [ 6 41]]\n",
            "92.98245614035088 %\n"
          ],
          "name": "stdout"
        }
      ]
    }
  ]
}